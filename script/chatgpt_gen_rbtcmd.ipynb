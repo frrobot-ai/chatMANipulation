{
 "cells": [
  {
   "cell_type": "code",
   "execution_count": 1,
   "metadata": {},
   "outputs": [],
   "source": [
    "# Instead of the terminal mode, you can also try ChatGPT in a python script\n",
    "# Here is an example.\n",
    "#%% \n",
    "# Importing libs\n",
    "import os\n",
    "from frchat.frchatbot import FRChatBot\n",
    "from dotenv import load_dotenv, find_dotenv\n",
    "_ = load_dotenv(find_dotenv(\"dev.env\"))  # read local .env file"
   ]
  },
  {
   "cell_type": "code",
   "execution_count": 2,
   "metadata": {},
   "outputs": [],
   "source": [
    "# Providing a context to start a conversation\n",
    "messages = [\n",
    "    {'role':'system', 'content':'你是一个机器人用户助手,帮助用户控制一个6关节机器人运动,你需要组合使用一些机器人控制函数来完成特定任务,只使用用户提供的函数,不要自行引入其他第三方库(如RoboDK)'},\n",
    "    {'role':'user', 'content':'你好，我们开始编写机器人控制指令吧'},\n",
    "    {'role':'assistant', 'content':'好的，请告诉我能够使用哪些机器人控制函数'},\n",
    "]"
   ]
  },
  {
   "cell_type": "code",
   "execution_count": 3,
   "metadata": {},
   "outputs": [],
   "source": [
    "# Defining a ChatBot and claiming the CONFIG_DIR\n",
    "frcb = FRChatBot(messages, temperature=0.1)\n",
    "config_dir = os.path.join(os.path.dirname(os.path.split(__file__)[0]), \"config/fr_robot/\")"
   ]
  },
  {
   "cell_type": "code",
   "execution_count": 4,
   "metadata": {},
   "outputs": [
    {
     "name": "stdout",
     "output_type": "stream",
     "text": [
      "USER: \n",
      "    以下是可使用的函数:\n",
      "    ```[['StartJOG(ref,nb,dir,vel,acc,max_dis)', \"功能:'jog点动'\", \"参数:'ref:0-关节点动,2-基坐标系点动,4-工具坐标系点动,8-工件坐标系点动(int型变量), nb:1-1关节(x轴),2-2关节(y轴),3-3关节(z轴),4-4关节(rx),5-5关节(ry),6-6关节(rz)(int型变量), dir:0-负方向,1-正方向(int型变量), vel:速度百分比，[0~100](float型变量), acc:加速度百分比，[0~100](float型变量), max_dis:单次点动最大角度/距离,单位°或mm(float型变量)'\", \"返回值:'成功：[0],失败：[errcode]'\"], ['StopJOG(ref)', \"功能:'jog点动减速停止'\", \"参数:'ref:1-关节点动停止,3-基坐标系点动停止,5-工具坐标系点动停止,9-工件坐标系点动停止(int型变量)'\", \"返回值:'成功：[0],失败：[errcode]'\"], ['ImmStopJOG()', \"功能:'jog点动立即停止'\", \"参数:'n/a:n/a(n/a型变量)'\", \"返回值:'成功：[0],失败：[errcode]'\"]]```\n",
      "\n",
      "FR: 好的，我们可以根据这些函数来编写机器人控制指令。请问需要实现哪些具体的任务呢？\n"
     ]
    }
   ],
   "source": [
    "# Providing some functions\n",
    "file = config_dir+'robot_movement/jog.yaml'\n",
    "output = frcb.generate_function_list(file)\n",
    "prompt = f\"\"\"\n",
    "    以下是可使用的函数:\n",
    "    ```{output}```\n",
    "\"\"\"\n",
    "frcb.chat(prompt)"
   ]
  },
  {
   "cell_type": "code",
   "execution_count": 5,
   "metadata": {},
   "outputs": [
    {
     "name": "stdout",
     "output_type": "stream",
     "text": [
      "USER: \n",
      "    任务1:请开始点动,1关节旋转,单次最大旋转5度,旋转到正30度,可使用循环\n",
      "    请生成该任务的python指令\n",
      "\n",
      "FR: 好的，以下是实现该任务的Python指令：\n",
      "\n",
      "```python\n",
      "import time\n",
      "\n",
      "# 定义机器人控制函数\n",
      "def StartJOG(ref, nb, dir, vel, acc, max_dis):\n",
      "    # 该函数用于控制机器人点动运动\n",
      "    pass\n",
      "\n",
      "def StopJOG(ref):\n",
      "    # 该函数用于控制机器人点动运动减速停止\n",
      "    pass\n",
      "\n",
      "def ImmStopJOG():\n",
      "    # 该函数用于控制机器人点动运动立即停止\n",
      "    pass\n",
      "\n",
      "# 任务1：1关节旋转到正30度\n",
      "joint_num = 1  # 旋转的关节编号\n",
      "max_dis = 5  # 单次最大旋转角度\n",
      "target_angle = 30  # 目标旋转角度\n",
      "ref = 0  # 关节点动\n",
      "dir = 1  # 正方向\n",
      "vel = 50  # 速度百分比\n",
      "acc = 50  # 加速度百分比\n",
      "\n",
      "current_angle = 0  # 当前旋转角度\n",
      "while current_angle < target_angle:\n",
      "    StartJOG(ref, joint_num, dir, vel, acc, max_dis)\n",
      "    time.sleep(0.1)  # 等待机器人旋转到目标角度\n",
      "    current_angle += max_dis\n",
      "StopJOG(ref)\n",
      "```\n",
      "\n",
      "请注意，以上代码中的机器人控制函数只是示例，需要根据实际情况进行修改。同时，需要根据具体机器人的控制方式和通信协议来编写相应的控制指令。\n"
     ]
    }
   ],
   "source": [
    "# Describing a task\n",
    "prompt = f\"\"\"\n",
    "    任务1:请开始点动,1关节旋转,单次最大旋转5度,旋转到正30度,可使用循环\n",
    "    请生成该任务的python指令\n",
    "\"\"\"\n",
    "frcb.chat(prompt)"
   ]
  },
  {
   "cell_type": "code",
   "execution_count": 6,
   "metadata": {},
   "outputs": [
    {
     "name": "stdout",
     "output_type": "stream",
     "text": [
      "USER: \n",
      "    新增可使用的函数:\n",
      "    ```[['GetRobotInstallAngle()', \"功能:'获取机器人安装角度'\", \"参数:'n/a:n/a(n/a型变量)'\", \"返回值:'成功：[0,yangle,zangle],yangle-倾斜角，zangle-旋转角;失败：[errcode]'\"], ['GetSysVarValue(id)', \"功能:'获取系统变量值'\", \"参数:'id:系统变量编号，范围[1~20](int型变量)'\", \"返回值:'成功：[0,var_value],失败：[errcode]'\"], ['GetActualJointPosDegree(flag)', \"功能:'获取关节当前位置(角度)'\", \"参数:'flag:0-阻塞，1-非阻塞(int型变量)'\", \"返回值:'成功：[0,joint_pos],joint_pos=[j1,j2,j3,j4,j5,j6];失败：[errcode]'\"], ['GetActualJointPosRadian(flag)', \"功能:'获取关节当前位置(弧度)'\", \"参数:'flag:0-阻塞，1-非阻塞(int型变量)'\", \"返回值:'成功：[0,joint_pos],joint_pos=[j1,j2,j3,j4,j5,j6];失败：[errcode]'\"], ['GetActualTCPPose(flag)', \"功能:'获取当前工具位姿'\", \"参数:'flag:0-阻塞，1-非阻塞(int型变量)'\", \"返回值:'成功：[0,tcp_pose],tcp_pose=[x,y,z,rx,ry,rz];失败：[errcode]'\"], ['GetActualTCPNum(flag)', \"功能:'获取当前工具坐标系编号'\", \"参数:'flag:0-阻塞，1-非阻塞(int型变量)'\", \"返回值:'成功：[0,tool_id],失败：[errcode]'\"], ['GetActualWObjNum(flag)', \"功能:'获取当前工件坐标系编号'\", \"参数:'flag:0-阻塞，1-非阻塞(int型变量)'\", \"返回值:'成功：[0,wobj_id],失败：[errcode]'\"], ['GetActualToolFlangePose(flag)', \"功能:'获取当前末端法兰位姿'\", \"参数:'flag:0-阻塞，1-非阻塞(int型变量)'\", \"返回值:'成功：[0,flange_pose],flange_pose=[x,y,z,rx,ry,rz];失败：[errcode]'\"], ['GetInverseKin(type,desc_pos,config)', \"功能:'逆运动学，笛卡尔位姿求解关节位置'\", \"参数:'type:0-绝对位姿(基坐标系)，1-相对位姿（基坐标系），2-相对位姿（工具坐标系）(int型变量), desc_pose:工具位姿，[x,y,z,rx,ry,rz]，单位[mm][°](float型变量), config:关节配置，[-1]-参考当前关节位置求解，[0~7]-依据关节配置求解(int型变量)'\", \"返回值:'成功：[0,joint_pos],joint_pos=[j1,j2,j3,j4,j5,j6];失败：[errcode]'\"], ['GetInverseKinRef(desc_pos,joint_pos_ref)', \"功能:'逆运动学，工具位姿求解关节位置，参考指定关节位置求解'\", \"参数:'desc_pose:工具位姿，[x,y,z,rx,ry,rz]，单位[mm][°](float型变量), joint_pos_ref:关节参考位置，[j1,j2,j3,j4,j5,j6]，单位[°](float型变量)'\", \"返回值:'成功：[0,joint_pos],joint_pos=[j1,j2,j3,j4,j5,j6];失败：[errcode]'\"], ['GetInverseKinHasSolution(desc_pos,joint_pos_ref)', \"功能:'逆运动学，工具位姿求解关节位置 是否有解'\", \"参数:'desc_pose:工具位姿，[x,y,z,rx,ry,rz]，单位[mm][°](float型变量), joint_pos_ref:关节参考位置，[j1,j2,j3,j4,j5,j6]，单位[°](float型变量)'\", \"返回值:'成功：[0,result],“True”-有解，“False”-无解;失败：[errcode]'\"], ['GetForwardKin(joint_pos)', \"功能:'正运动学，关节位置求解工具位姿'\", \"参数:'joint_pos:关节位置，[j1,j2,j3,j4,j5,j6]，单位[°](float型变量)'\", \"返回值:'成功：[0,desc_pos],desc_pos=[x,y,z,rx,ry,rz]:工具位姿，单位[mm][°];失败：[errcode]'\"], ['GetJointTorques(flag)', \"功能:'获取当前关节转矩'\", \"参数:'flag:0-阻塞，1-非阻塞(int型变量)'\", \"返回值:'成功：[0,torques],torques=[j1,j2,j3,j4,j5,j6];失败：[errcode]'\"], ['GetTargetPayload(flag)', \"功能:'获取当前负载的质量'\", \"参数:'flag:0-阻塞，1-非阻塞(int型变量)'\", \"返回值:'成功：[0,weight],单位[kg];失败：[errcode]'\"], ['GetTargetPayloadCog(flag)', \"功能:'获取当前负载的质心'\", \"参数:'flag:0-阻塞，1-非阻塞(int型变量)'\", \"返回值:'成功：[0,cog], cog=[x,y,z]:质心坐标，单位[mm];失败：[errcode]'\"], ['GetTCPOffset(flag)', \"功能:'获取当前工具坐标系'\", \"参数:'flag:0-阻塞，1-非阻塞(int型变量)'\", \"返回值:'成功：[0,tcp_offset], tcp_offset=[x,y,z,rx,ry,rz]:相对位姿，单位[mm][°];失败：[errcode]'\"], ['GetWObjOffset(flag)', \"功能:'获取当前工件坐标系'\", \"参数:'flag:0-阻塞，1-非阻塞(int型变量)'\", \"返回值:'成功：[0,wobj_offset], wobj _offset=[x,y,z,rx,ry,rz]:相对位姿，单位[mm][°];失败：[errcode]'\"], ['GetJointSoftLimitDeg(flag)', \"功能:'获取关节软限位角度'\", \"参数:'flag:0-阻塞，1-非阻塞(int型变量)'\", \"返回值:'成功：[[0, j1min,j1max,j2min,j2max,j3min,j3max,j4min,j4max,j5min,j5max,j6min,j6max] :轴1~轴6关节负限位与正限位，单位[mm];失败：[errcode]'\"], ['GetSystemClock()', \"功能:'获取系统时间'\", \"参数:'n/a:n/a(n/a型变量)'\", \"返回值:'成功：[0,t_ms]:单位[ms],失败：[errcode]'\"], ['GetRobotCurJointsConfig()', \"功能:'获取机器人当前关节配置'\", \"参数:'n/a:n/a(n/a型变量)'\", \"返回值:'成功：[0,config]:范围[0~7],失败：[errcode]'\"], ['GetDefaultTransVel()', \"功能:'获取默认速度'\", \"参数:'n/a:n/a(n/a型变量)'\", \"返回值:'成功：[0,vel]:单位[mm/s],失败：[errcode]'\"], ['GetRobotMotionDone()', \"功能:'查询机器人运动是否完成'\", \"参数:'n/a:n/a(n/a型变量)'\", \"返回值:'成功：[0,state],state:0-未完成，1-完成;失败：[errcode]'\"]]```\n",
      "    请重写之前的指令，可使用关节角度获取函数获取关节位置\n",
      "\n",
      "FR: 好的，以下是重写后的Python指令，使用`GetActualJointPosDegree()`函数获取当前关节角度：\n",
      "\n",
      "```python\n",
      "import time\n",
      "\n",
      "# 定义机器人控制函数\n",
      "def StartJOG(ref, nb, dir, vel, acc, max_dis):\n",
      "    # 该函数用于控制机器人点动运动\n",
      "    pass\n",
      "\n",
      "def StopJOG(ref):\n",
      "    # 该函数用于控制机器人点动运动减速停止\n",
      "    pass\n",
      "\n",
      "def ImmStopJOG():\n",
      "    # 该函数用于控制机器人点动运动立即停止\n",
      "    pass\n",
      "\n",
      "def GetActualJointPosDegree(flag):\n",
      "    # 该函数用于获取当前关节角度\n",
      "    pass\n",
      "\n",
      "# 任务1：1关节旋转到正30度\n",
      "joint_num = 1  # 旋转的关节编号\n",
      "max_dis = 5  # 单次最大旋转角度\n",
      "target_angle = 30  # 目标旋转角度\n",
      "ref = 0  # 关节点动\n",
      "dir = 1  # 正方向\n",
      "vel = 50  # 速度百分比\n",
      "acc = 50  # 加速度百分比\n",
      "\n",
      "current_angle = 0  # 当前旋转角度\n",
      "while current_angle < target_angle:\n",
      "    StartJOG(ref, joint_num, dir, vel, acc, max_dis)\n",
      "    time.sleep(0.1)  # 等待机器人旋转到目标角度\n",
      "    current_angle += max_dis\n",
      "    joint_pos = GetActualJointPosDegree(0)  # 获取当前关节角度\n",
      "    current_angle = joint_pos[joint_num-1]  # 更新当前旋转角度\n",
      "StopJOG(ref)\n",
      "```\n",
      "\n",
      "请注意，以上代码中的机器人控制函数只是示例，需要根据实际情况进行修改。同时，需要根据具体机器人的控制方式和通信协议来编写相应的控制指令。\n"
     ]
    }
   ],
   "source": [
    "# Providing more functions\n",
    "file = config_dir+'robot_statusinquiry.yaml'\n",
    "output = frcb.generate_function_list(file)\n",
    "prompt = f\"\"\"\n",
    "    新增可使用的函数:\n",
    "    ```{output}```\n",
    "    请重写之前的指令，可使用关节角度获取函数获取关节位置\n",
    "\"\"\"\n",
    "frcb.chat(prompt)"
   ]
  },
  {
   "cell_type": "code",
   "execution_count": 7,
   "metadata": {},
   "outputs": [
    {
     "name": "stdout",
     "output_type": "stream",
     "text": [
      "USER: \n",
      "    任务2:关节配置1-[0,0,0,0,0,0],关节配置2-[30,-60,90,20,-10,30],     关节点动从配置1运动到配置2,请帮我生成python指令,注意不要使用用户未提供的函数\n",
      "\n",
      "FR: 好的，以下是实现该任务的Python指令：\n",
      "\n",
      "```python\n",
      "import time\n",
      "\n",
      "# 定义机器人控制函数\n",
      "def StartJOG(ref, nb, dir, vel, acc, max_dis):\n",
      "    # 该函数用于控制机器人点动运动\n",
      "    pass\n",
      "\n",
      "def StopJOG(ref):\n",
      "    # 该函数用于控制机器人点动运动减速停止\n",
      "    pass\n",
      "\n",
      "def ImmStopJOG():\n",
      "    # 该函数用于控制机器人点动运动立即停止\n",
      "    pass\n",
      "\n",
      "def GetActualJointPosDegree(flag):\n",
      "    # 该函数用于获取当前关节角度\n",
      "    pass\n",
      "\n",
      "# 任务2：关节点动从关节配置1运动到关节配置2\n",
      "joint_config1 = [0, 0, 0, 0, 0, 0]  # 关节配置1\n",
      "joint_config2 = [30, -60, 90, 20, -10, 30]  # 关节配置2\n",
      "ref = 0  # 关节点动\n",
      "dir = 1  # 正方向\n",
      "vel = 50  # 速度百分比\n",
      "acc = 50  # 加速度百分比\n",
      "\n",
      "# 将机器人移动到关节配置1\n",
      "for i in range(6):\n",
      "    joint_num = i + 1\n",
      "    max_dis = abs(joint_config1[i] - GetActualJointPosDegree(0)[i])\n",
      "    StartJOG(ref, joint_num, dir, vel, acc, max_dis)\n",
      "    time.sleep(0.1)  # 等待机器人移动到目标位置\n",
      "StopJOG(ref)\n",
      "\n",
      "# 将机器人移动到关节配置2\n",
      "for i in range(6):\n",
      "    joint_num = i + 1\n",
      "    max_dis = abs(joint_config2[i] - GetActualJointPosDegree(0)[i])\n",
      "    StartJOG(ref, joint_num, dir, vel, acc, max_dis)\n",
      "    time.sleep(0.1)  # 等待机器人移动到目标位置\n",
      "StopJOG(ref)\n",
      "```\n",
      "\n",
      "请注意，以上代码中的机器人控制函数只是示例，需要根据实际情况进行修改。同时，需要根据具体机器人的控制方式和通信协议来编写相应的控制指令。\n"
     ]
    }
   ],
   "source": [
    "# Expanding the task\n",
    "prompt = f\"\"\"\n",
    "    任务2:关节配置1-[0,0,0,0,0,0],关节配置2-[30,-60,90,20,-10,30], \\\n",
    "    关节点动从配置1运动到配置2,请帮我生成python指令,注意不要使用用户未提供的函数\n",
    "\"\"\"\n",
    "frcb.chat(prompt)"
   ]
  }
 ],
 "metadata": {
  "kernelspec": {
   "display_name": "chatgpt",
   "language": "python",
   "name": "python3"
  },
  "language_info": {
   "codemirror_mode": {
    "name": "ipython",
    "version": 3
   },
   "file_extension": ".py",
   "mimetype": "text/x-python",
   "name": "python",
   "nbconvert_exporter": "python",
   "pygments_lexer": "ipython3",
   "version": "3.9.16"
  },
  "orig_nbformat": 4
 },
 "nbformat": 4,
 "nbformat_minor": 2
}
