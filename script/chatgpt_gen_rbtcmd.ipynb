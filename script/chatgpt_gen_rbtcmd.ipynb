{
 "cells": [
  {
   "cell_type": "code",
   "execution_count": 1,
   "metadata": {},
   "outputs": [],
   "source": [
    "# Instead of the terminal mode, you can also try ChatGPT in a python script\n",
    "# Here is an example.\n",
    "#%% \n",
    "# Importing libs\n",
    "import os\n",
    "from frchat.frchatbot import FRChatBot\n",
    "from dotenv import load_dotenv, find_dotenv\n",
    "_ = load_dotenv(find_dotenv(\"dev.env\"))  # read local .env file"
   ]
  },
  {
   "cell_type": "code",
   "execution_count": 2,
   "metadata": {},
   "outputs": [],
   "source": [
    "# Providing a context to start a conversation\n",
    "messages = [\n",
    "    {'role':'system', 'content':'你是一个机器人用户助手,帮助用户控制一个6关节机器人运动,你需要组合使用一些机器人控制函数来完成特定任务,只使用用户提供的函数,不要自行引入其他第三方库(如RoboDK)'},\n",
    "    {'role':'user', 'content':'你好，我们开始编写机器人控制指令吧'},\n",
    "    {'role':'assistant', 'content':'好的，请告诉我能够使用哪些机器人控制函数'},\n",
    "]"
   ]
  },
  {
   "cell_type": "code",
   "execution_count": 3,
   "metadata": {},
   "outputs": [],
   "source": [
    "# Defining a ChatBot and claiming the CONFIG_DIR\n",
    "frcb = FRChatBot(messages, temperature=0.1)\n",
    "config_dir = \"../config/fr_robot/\""
   ]
  },
  {
   "cell_type": "code",
   "execution_count": 4,
   "metadata": {},
   "outputs": [
    {
     "name": "stdout",
     "output_type": "stream",
     "text": [
      "USER: \n",
      "    机器人基础函数:\n",
      "    ```[['RPC(ip)', \"功能:'实例化一个机器人对象'\", \"参数:'ip:机器人的IP地址，默认出厂IP为“192.168.58.2”(str型变量)'\", \"返回值:'成功：返回一个机器人对象,失败：创建的对象会被销毁'\"], ['GetSDKVersion()', \"功能:'查询SDK版本号'\", \"参数:'n/a:n/a(n/a型变量)'\", \"返回值:'成功：[0,version],失败：[errcode]'\"], ['GetControllerIP()', \"功能:'查询控制器IP'\", \"参数:'n/a:n/a(n/a型变量)'\", \"返回值:'成功：[0,IP],失败：[errcode]'\"], ['Mode(state)', \"功能:'控制机器人手自动模式切换'\", \"参数:'state:1-手动模式，0-自动模式(int型变量)'\", \"返回值:'成功：[0],失败：[errcode]'\"], ['DragTeachSwitch(state)', \"功能:'控制机器人进入或退出拖动示教模式'\", \"参数:'state:1-进入拖动示教模式，0-退出拖动示教模式(int型变量)'\", \"返回值:'成功：[0],失败：[errcode]'\"], ['IsInDragTeach()', \"功能:'查询机器人是否处于拖动示教模式'\", \"参数:'n/a:n/a(n/a型变量)'\", \"返回值:'成功：[0,state]，state:0-非拖动示教模式，1-拖动示教模式;失败：[errcode]'\"], ['RobotEnable(state)', \"功能:'控制机器人上使能或下使能'\", \"参数:'state:1-上使能，0-下使能(int型变量)'\", \"返回值:'成功：[0],失败：[errcode]'\"]]```\n",
      "    可进行机器人对象实例化等操作,注意除实例化函数外,其他函数(包括后面将要提供的函数)都是实例化对象下的method函数\n",
      "\n",
      "FR: 好的，那我们可以先实例化一个机器人对象，然后使用其method函数来控制机器人运动。请问你的机器人是什么品牌和型号？\n"
     ]
    }
   ],
   "source": [
    "# Providing basic functions\n",
    "file = config_dir+'robot_basics.yaml'\n",
    "output = frcb.generate_function_list(file)\n",
    "prompt = f\"\"\"\n",
    "    机器人基础函数:\n",
    "    ```{output}```\n",
    "    可进行机器人对象实例化等操作,注意除实例化函数外,其他函数(包括后面将要提供的函数)都是实例化对象下的method函数\n",
    "\"\"\"\n",
    "frcb.chat(prompt)"
   ]
  },
  {
   "cell_type": "code",
   "execution_count": 5,
   "metadata": {},
   "outputs": [
    {
     "name": "stdout",
     "output_type": "stream",
     "text": [
      "USER: \n",
      "    以下是控制机器人点动的函数:\n",
      "    ```[['StartJOG(ref,nb,dir,vel,acc,max_dis)', \"功能:'jog点动'\", \"参数:'ref:0-关节点动,2-基坐标系点动,4-工具坐标系点动,8-工件坐标系点动(int型变量), nb:1-1关节(x轴),2-2关节(y轴),3-3关节(z轴),4-4关节(rx),5-5关节(ry),6-6关节(rz)(int型变量), dir:0-负方向,1-正方向(int型变量), vel:速度百分比，[0~100](float型变量), acc:加速度百分比，[0~100](float型变量), max_dis:单次点动最大角度/距离,单位°或mm(float型变量)'\", \"返回值:'成功：[0],失败：[errcode]'\"], ['StopJOG(ref)', \"功能:'jog点动减速停止'\", \"参数:'ref:1-关节点动停止,3-基坐标系点动停止,5-工具坐标系点动停止,9-工件坐标系点动停止(int型变量)'\", \"返回值:'成功：[0],失败：[errcode]'\"], ['ImmStopJOG()', \"功能:'jog点动立即停止'\", \"参数:'n/a:n/a(n/a型变量)'\", \"返回值:'成功：[0],失败：[errcode]'\"]]```\n",
      "\n",
      "FR: 好的，那我们可以先实例化一个机器人对象，然后使用其method函数来控制机器人运动。请问你的机器人是什么品牌和型号？\n"
     ]
    }
   ],
   "source": [
    "# Providing more functions\n",
    "file = config_dir+'robot_movement/jog.yaml'\n",
    "output = frcb.generate_function_list(file)\n",
    "prompt = f\"\"\"\n",
    "    以下是控制机器人点动的函数:\n",
    "    ```{output}```\n",
    "\"\"\"\n",
    "frcb.chat(prompt)"
   ]
  },
  {
   "cell_type": "code",
   "execution_count": 6,
   "metadata": {},
   "outputs": [
    {
     "name": "stdout",
     "output_type": "stream",
     "text": [
      "USER: \n",
      "    任务1:实例化一个机器人对象并开始点动,单次最大旋转5度,将1关节旋转到正30度,可使用循环,\n",
      "    请生成该任务的python指令\n",
      "\n",
      "FR: 好的，以下是实现该任务的Python指令：\n",
      "\n",
      "```python\n",
      "# 实例化机器人对象\n",
      "robot = RPC('192.168.58.2')\n",
      "\n",
      "# 开始点动1关节，单次最大旋转5度\n",
      "ref = 0  # 关节点动\n",
      "nb = 1  # 1关节\n",
      "dir = 1  # 正方向\n",
      "vel = 50  # 速度百分比50%\n",
      "acc = 50  # 加速度百分比50%\n",
      "max_dis = 5  # 单次最大旋转5度\n",
      "robot.StartJOG(ref, nb, dir, vel, acc, max_dis)\n",
      "\n",
      "# 将1关节旋转到正30度\n",
      "target_angle = 30  # 目标角度\n",
      "current_angle = robot.GetCurrentJoint()[0]  # 获取当前1关节角度\n",
      "while abs(current_angle - target_angle) > max_dis:  # 当前角度与目标角度差大于单次最大旋转角度时循环\n",
      "    if current_angle < target_angle:  # 当前角度小于目标角度时，正方向旋转\n",
      "        robot.StartJOG(ref, nb, dir, vel, acc, max_dis)\n",
      "    else:  # 当前角度大于目标角度时，负方向旋转\n",
      "        robot.StartJOG(ref, nb, 0, vel, acc, max_dis)\n",
      "    current_angle = robot.GetCurrentJoint()[0]  # 更新当前角度\n",
      "\n",
      "# 停止点动\n",
      "robot.StopJOG(ref)\n",
      "```\n",
      "\n",
      "请注意，以上代码仅供参考，具体实现可能需要根据你的机器人型号和控制器接口进行调整。\n"
     ]
    }
   ],
   "source": [
    "# Describing a task\n",
    "prompt = f\"\"\"\n",
    "    任务1:实例化一个机器人对象并开始点动,单次最大旋转5度,将1关节旋转到正30度,可使用循环,\n",
    "    请生成该任务的python指令\n",
    "\"\"\"\n",
    "frcb.chat(prompt)"
   ]
  },
  {
   "cell_type": "code",
   "execution_count": 7,
   "metadata": {},
   "outputs": [
    {
     "name": "stdout",
     "output_type": "stream",
     "text": [
      "USER: \n",
      "    新增可使用的函数:\n",
      "    ```\n",
      "    - function:\n",
      "        name: GetActualJointPosDegree(flag)\n",
      "        description: 获取关节当前位置(角度)\n",
      "        arguments:\n",
      "        - name: flag\n",
      "            type: int\n",
      "            description: 0-阻塞，1-非阻塞\n",
      "        return: 成功：[0,joint_pos],joint_pos=[j1,j2,j3,j4,j5,j6];失败：[errcode]\n",
      "    ```\n",
      "    请重写之前的指令，使用此函数获取关节位置\n",
      "\n",
      "FR: 好的，以下是重写后的Python指令：\n",
      "\n",
      "```python\n",
      "# 实例化机器人对象\n",
      "robot = RPC('192.168.58.2')\n",
      "\n",
      "# 开始点动1关节，单次最大旋转5度\n",
      "ref = 0  # 关节点动\n",
      "nb = 1  # 1关节\n",
      "dir = 1  # 正方向\n",
      "vel = 50  # 速度百分比50%\n",
      "acc = 50  # 加速度百分比50%\n",
      "max_dis = 5  # 单次最大旋转5度\n",
      "robot.StartJOG(ref, nb, dir, vel, acc, max_dis)\n",
      "\n",
      "# 将1关节旋转到正30度\n",
      "target_angle = 30  # 目标角度\n",
      "current_angle = robot.GetActualJointPosDegree(0)[1][0]  # 获取当前1关节角度\n",
      "while abs(current_angle - target_angle) > max_dis:  # 当前角度与目标角度差大于单次最大旋转角度时循环\n",
      "    if current_angle < target_angle:  # 当前角度小于目标角度时，正方向旋转\n",
      "        robot.StartJOG(ref, nb, dir, vel, acc, max_dis)\n",
      "    else:  # 当前角度大于目标角度时，负方向旋转\n",
      "        robot.StartJOG(ref, nb, 0, vel, acc, max_dis)\n",
      "    current_angle = robot.GetActualJointPosDegree(0)[1][0]  # 更新当前角度\n",
      "\n",
      "# 停止点动\n",
      "robot.StopJOG(ref)\n",
      "```\n",
      "\n",
      "请注意，以上代码仅供参考，具体实现可能需要根据你的机器人型号和控制器接口进行调整。\n"
     ]
    }
   ],
   "source": [
    "# Providing more functions\n",
    "prompt = f\"\"\"\n",
    "    新增可使用的函数:\n",
    "    ```\n",
    "    - function:\n",
    "        name: GetActualJointPosDegree(flag)\n",
    "        description: 获取关节当前位置(角度)\n",
    "        arguments:\n",
    "        - name: flag\n",
    "            type: int\n",
    "            description: 0-阻塞，1-非阻塞\n",
    "        return: 成功：[0,joint_pos],joint_pos=[j1,j2,j3,j4,j5,j6];失败：[errcode]\n",
    "    ```\n",
    "    请重写之前的指令，使用此函数获取关节位置\n",
    "\"\"\"\n",
    "frcb.chat(prompt)"
   ]
  },
  {
   "cell_type": "code",
   "execution_count": 8,
   "metadata": {},
   "outputs": [
    {
     "name": "stdout",
     "output_type": "stream",
     "text": [
      "USER: \n",
      "    任务2:关节配置1-[0,0,0,0,0,0],关节配置2-[30,-60,90,20,-10,30],\n",
      "    关节点动从配置1运动到配置2,请帮我生成python指令,注意不要使用用户未提供的函数\n",
      "\n",
      "FR: 好的，以下是实现该任务的Python指令：\n",
      "\n",
      "```python\n",
      "# 实例化机器人对象\n",
      "robot = RPC('192.168.58.2')\n",
      "\n",
      "# 定义关节配置1和关节配置2\n",
      "joint_pos1 = [0, 0, 0, 0, 0, 0]\n",
      "joint_pos2 = [30, -60, 90, 20, -10, 30]\n",
      "\n",
      "# 将机器人移动到关节配置1\n",
      "ref = 0  # 关节点动\n",
      "nb = 1  # 1关节\n",
      "dir = 1  # 正方向\n",
      "vel = 50  # 速度百分比50%\n",
      "acc = 50  # 加速度百分比50%\n",
      "max_dis = 5  # 单次最大旋转5度\n",
      "current_joint_pos = robot.GetActualJointPosDegree(0)[1]  # 获取当前关节位置\n",
      "for i in range(6):\n",
      "    while abs(current_joint_pos[i] - joint_pos1[i]) > max_dis:  # 当前关节位置与目标关节位置差大于单次最大旋转角度时循环\n",
      "        if current_joint_pos[i] < joint_pos1[i]:  # 当前关节位置小于目标关节位置时，正方向旋转\n",
      "            robot.StartJOG(ref, i+1, dir, vel, acc, max_dis)\n",
      "        else:  # 当前关节位置大于目标关节位置时，负方向旋转\n",
      "            robot.StartJOG(ref, i+1, 0, vel, acc, max_dis)\n",
      "        current_joint_pos = robot.GetActualJointPosDegree(0)[1]  # 更新当前关节位置\n",
      "    robot.StopJOG(ref)  # 停止点动\n",
      "\n",
      "# 将机器人移动到关节配置2\n",
      "current_joint_pos = robot.GetActualJointPosDegree(0)[1]  # 获取当前关节位置\n",
      "for i in range(6):\n",
      "    while abs(current_joint_pos[i] - joint_pos2[i]) > max_dis:  # 当前关节位置与目标关节位置差大于单次最大旋转角度时循环\n",
      "        if current_joint_pos[i] < joint_pos2[i]:  # 当前关节位置小于目标关节位置时，正方向旋转\n",
      "            robot.StartJOG(ref, i+1, dir, vel, acc, max_dis)\n",
      "        else:  # 当前关节位置大于目标关节位置时，负方向旋转\n",
      "            robot.StartJOG(ref, i+1, 0, vel, acc, max_dis)\n",
      "        current_joint_pos = robot.GetActualJointPosDegree(0)[1]  # 更新当前关节位置\n",
      "    robot.StopJOG(ref)  # 停止点动\n",
      "```\n",
      "\n",
      "请注意，以上代码仅供参考，具体实现可能需要根据你的机器人型号和控制器接口进行调整。\n"
     ]
    }
   ],
   "source": [
    "# Expanding the task\n",
    "prompt = f\"\"\"\n",
    "    任务2:关节配置1-[0,0,0,0,0,0],关节配置2-[30,-60,90,20,-10,30],\n",
    "    关节点动从配置1运动到配置2,请帮我生成python指令,注意不要使用用户未提供的函数\n",
    "\"\"\"\n",
    "frcb.chat(prompt)"
   ]
  }
 ],
 "metadata": {
  "kernelspec": {
   "display_name": "chatgpt",
   "language": "python",
   "name": "python3"
  },
  "language_info": {
   "codemirror_mode": {
    "name": "ipython",
    "version": 3
   },
   "file_extension": ".py",
   "mimetype": "text/x-python",
   "name": "python",
   "nbconvert_exporter": "python",
   "pygments_lexer": "ipython3",
   "version": "3.9.16"
  },
  "orig_nbformat": 4
 },
 "nbformat": 4,
 "nbformat_minor": 2
}
